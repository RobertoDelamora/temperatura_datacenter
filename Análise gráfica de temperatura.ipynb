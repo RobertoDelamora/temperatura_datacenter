{
 "cells": [
  {
   "cell_type": "markdown",
   "metadata": {},
   "source": [
    "# Inicialização do ambiente"
   ]
  },
  {
   "cell_type": "code",
   "execution_count": 1,
   "metadata": {},
   "outputs": [],
   "source": [
    "# Essentials\n",
    "import pandas as pd\n",
    "import numpy as np\n",
    "\n",
    "import datetime as dt\n",
    "import gc\n",
    "import math\n",
    "import warnings, time\n",
    "warnings.filterwarnings(\"ignore\", category=DeprecationWarning)\n",
    "warnings.filterwarnings(\"ignore\", category=UserWarning)\n",
    "warnings.filterwarnings(\"ignore\", category=FutureWarning)\n",
    "%matplotlib inline\n",
    "\n",
    "# Plots\n",
    "import seaborn as sns\n",
    "import matplotlib\n",
    "import matplotlib.pyplot as plt\n",
    "\n",
    "# Stats\n",
    "from scipy import stats\n",
    "from scipy.stats import skew, norm, rankdata, pearsonr\n",
    "from sklearn.impute import KNNImputer\n",
    "import ppscore as pps\n",
    "\n",
    "# Estebelece limites para visualização no notebook\n",
    "pd.set_option('display.max_columns',100)\n",
    "pd.set_option('display.max_rows',500)\n",
    "\n",
    "# Limita a 3 casas decimais a apresentação das variaveis tipo float\n",
    "pd.set_option('display.float_format', lambda x: '{:.3f}'.format(x))\n",
    "\n",
    "# Handle date time conversions between pandas and matplotlib\n",
    "from pandas.plotting import register_matplotlib_converters\n",
    "register_matplotlib_converters()"
   ]
  },
  {
   "cell_type": "code",
   "execution_count": null,
   "metadata": {},
   "outputs": [],
   "source": []
  },
  {
   "cell_type": "markdown",
   "metadata": {},
   "source": [
    "# Coleta de dados do banco SQL"
   ]
  },
  {
   "cell_type": "code",
   "execution_count": null,
   "metadata": {},
   "outputs": [],
   "source": [
    "server = datausuario.getHost('userX')\n",
    "usuario = datausuario.getUser('userX')\n",
    "chave = datausuario.getPass('userX')\n",
    "database = 'ds_database'"
   ]
  },
  {
   "cell_type": "markdown",
   "metadata": {},
   "source": [
    "### Estabelece conexão com o banco"
   ]
  },
  {
   "cell_type": "code",
   "execution_count": null,
   "metadata": {},
   "outputs": [],
   "source": [
    "import pyodbc\n",
    "from pyodbc import Error\n",
    "\n",
    "try:\n",
    "    conn = pyodbc.connect('Driver={ODBC Driver 17 for SQL Server}; \\\n",
    "                         Server='+server+'; \\\n",
    "                         Port=1433; \\\n",
    "                         Database='+database+'; \\\n",
    "                         Trusted_Connection=yes; \\\n",
    "                         uid='+usuario+'; \\\n",
    "                         pwd='+chave)\n",
    "    \n",
    "    db_name = conn.getinfo(pyodbc.SQL_DBMS_NAME)\n",
    "    print(\"You're connected to database: \", db_name)\n",
    "    db_ver = conn.getinfo(pyodbc.SQL_DBMS_VER)\n",
    "    print(\"Databse version: \", db_ver)\n",
    "    \n",
    "    cursor = conn.cursor()\n",
    "\n",
    "except Error as e:\n",
    "    print(\"Error while connecting to MSSQL\", e)\n",
    "    \n",
    "del server, usuario, chave, database\n",
    "del db_name, db_ver\n",
    "gc.collect();"
   ]
  },
  {
   "cell_type": "markdown",
   "metadata": {},
   "source": [
    "### Faz a coleta dos dados e cria dataframe"
   ]
  },
  {
   "cell_type": "code",
   "execution_count": null,
   "metadata": {},
   "outputs": [],
   "source": [
    "query = \"\"\"SELECT * FROM ds_database.dbo.historico\n",
    "           WHERE itemref = 'Temperature'\n",
    "                 AND data <= '2020-12-31 23:59:59'\"\"\"\n",
    "\n",
    "df_hist = pd.read_sql(query, con=conn)"
   ]
  },
  {
   "cell_type": "code",
   "execution_count": null,
   "metadata": {
    "scrolled": false
   },
   "outputs": [],
   "source": [
    "df_hist.sort_values(by=['id'], ignore_index=True, inplace=True)"
   ]
  },
  {
   "cell_type": "markdown",
   "metadata": {},
   "source": [
    "### Encerra conexão com o banco"
   ]
  },
  {
   "cell_type": "code",
   "execution_count": null,
   "metadata": {},
   "outputs": [],
   "source": [
    "# Encerra conexão com o banco MSSQL\n",
    "cursor.close()\n",
    "conn.close()\n",
    "del cursor, conn, query\n",
    "gc.collect();"
   ]
  },
  {
   "cell_type": "markdown",
   "metadata": {},
   "source": [
    "# Cria dataset de referencia para estudos"
   ]
  },
  {
   "cell_type": "code",
   "execution_count": null,
   "metadata": {},
   "outputs": [],
   "source": [
    "df_hist['itemref'].unique()"
   ]
  },
  {
   "cell_type": "code",
   "execution_count": null,
   "metadata": {},
   "outputs": [],
   "source": [
    "dic = {'Temperature': 'temp_int',\n",
    "       'Humidity': 'umid_int',\n",
    "       'Output Current - Line 1': 'out_curr1',\n",
    "       'Output Current - Line 2': 'out_curr2',\n",
    "       'Output Current - Line 3': 'out_curr3',\n",
    "       'Output Percent Load - Line 1': 'out_load1',\n",
    "       'Output Percent Load - Line 2': 'out_load2',\n",
    "       'Output Percent Load - Line 3': 'out_load3',\n",
    "       'Output Power - Line 1': 'out_powr1',\n",
    "       'Output Power - Line 2': 'out_powr2',\n",
    "       'Output Power - Line 3': 'out_powr3',\n",
    "       'Output Power': 'out_powr'}"
   ]
  },
  {
   "cell_type": "code",
   "execution_count": null,
   "metadata": {},
   "outputs": [],
   "source": [
    "df_hist['itemref'] = df_hist['itemref'].map(dic)\n",
    "df_hist['host'] = df_hist['host'] + '_' + df_hist['itemref']\n",
    "df_hist.drop(['id', 'utc', 'itemref'], axis=1, inplace=True)\n",
    "df_hist"
   ]
  },
  {
   "cell_type": "code",
   "execution_count": null,
   "metadata": {},
   "outputs": [],
   "source": [
    "# Modifica dataset para ajustá-lo ao modelo desejado para os estudo\n",
    "df_hist = df_hist.groupby(['data', 'host'])['value'].aggregate('mean').unstack()\n",
    "df_hist.head(3)"
   ]
  },
  {
   "cell_type": "code",
   "execution_count": null,
   "metadata": {},
   "outputs": [],
   "source": [
    "# Fazendo resample dos registros considerando consolidações em 10 minutos\n",
    "df1 = df_hist.resample('10min').mean()"
   ]
  },
  {
   "cell_type": "markdown",
   "metadata": {},
   "source": [
    "# Análise gráfica do comportamento das variáveis no tempo"
   ]
  },
  {
   "cell_type": "code",
   "execution_count": 2,
   "metadata": {},
   "outputs": [],
   "source": [
    "# Lista de instrumentos de medição e localização\n",
    "df_host = pd.read_csv('../data/df_host.csv', sep=';', encoding='utf-8', index_col=['host'])  "
   ]
  },
  {
   "cell_type": "code",
   "execution_count": 5,
   "metadata": {},
   "outputs": [],
   "source": [
    "# Pré seta definições de tamanho para apresentação de gráficos\n",
    "f, ax = plt.subplots(nrows=4, ncols=5)\n",
    "plt.rcParams['figure.figsize'] = [20, 20]\n",
    "plt.subplots_adjust(wspace=0.25, hspace=0.23)\n",
    "plt.close('all')"
   ]
  },
  {
   "cell_type": "code",
   "execution_count": 9,
   "metadata": {
    "code_folding": [],
    "scrolled": false
   },
   "outputs": [],
   "source": [
    "# Grafico\n",
    "fileout= '../fig/{}.jpg'\n",
    "\n",
    "for inst in df1columns:\n",
    "    host = inst.replace('_temp_int', '')\n",
    "    site = df_host.loc[host, 'site']\n",
    "    host = host+' - '+site\n",
    "    \n",
    "    # mapeia ambiente para construção de 5 gráficos \n",
    "    f, axes = plt.subplots(nrows=4, ncols=5)\n",
    "    plt.rcParams['figure.figsize'] = [20, 20]\n",
    "    plt.subplots_adjust(wspace=0.25, hspace=0.23)\n",
    "\n",
    "    ax1 = plt.subplot2grid((4, 5), (0, 0), colspan=5, rowspan=2)\n",
    "    ax2 = plt.subplot2grid((4, 5), (2, 0), colspan=5, rowspan=1)\n",
    "    ax3 = plt.subplot2grid((4, 5), (3, 0), colspan=2, rowspan=1)\n",
    "    ax4 = plt.subplot2grid((4, 5), (3, 2), colspan=2, rowspan=1)\n",
    "    ax5 = plt.subplot2grid((4, 5), (3, 4))\n",
    "\n",
    "    # Gráfico 1 - Médias diária e semanal\n",
    "    x = df1[inst].resample('1H').apply([np.mean])\n",
    "    y = df1[inst].resample('W').apply([np.mean])\n",
    "\n",
    "    ax1.plot(x, label='Média a cada hora')\n",
    "    ax1.plot(y, label='Média semanal')\n",
    "    ax1.set_title('Médias de temperatura de '+host, fontsize=14)\n",
    "    ax1.set_xlabel('')\n",
    "    ax1.set_ylabel('Temperatura Interna', fontsize=14)\n",
    "    ax1.legend(fontsize=12)\n",
    "    ax1.grid(color='lightgray', linestyle='-', linewidth=0.5)\n",
    "\n",
    "    # Grafico 2 - Estatisicas de cada semana\n",
    "    df_aux1 = df1[inst].resample('10min').apply([np.mean])\n",
    "    (df_aux1.assign(periodo=lambda df: df_aux1.index.weekofyear)\n",
    "       .groupby('periodo')['mean'].agg([\"mean\", \"median\", \"min\", \"max\"])\n",
    "       .plot(ax=ax2, marker=\"o\",linewidth=1))\n",
    "    ax2.set_title('Estatísticas a cada semana', fontsize=14)\n",
    "    ax2.set_xlabel('')\n",
    "    ax2.set_ylabel('Temperatura Interna', fontsize=14)\n",
    "\n",
    "    # Gráfico 3 - Histograma\n",
    "    df1[inst].hist(bins = 30, ax=ax3)\n",
    "    ax3.set_xlabel('Temperaturas', fontsize=12)\n",
    "    ax3.set_ylabel('Ocorrências', fontsize=12)\n",
    "    ax3.set_title('Distribuição no periodo todo', fontsize=14)\n",
    "    \n",
    "        # Gráfico 4 - Boxplot\n",
    "    sns.boxplot(x=df1.index.month, y=inst, data=df, ax=ax4, orient=\"v\", palette=\"Set2\")\n",
    "    ax4.set_xlabel('Meses', fontsize=14)\n",
    "    ax4.set_ylabel('')\n",
    "    ax4.set_title('Distribuição nos meses', fontsize=14)\n",
    "\n",
    "    # Gráfico 5 - Distribuição\n",
    "    sns.stripplot(x=df1.index.month, y=inst, data=df, ax=ax5)\n",
    "    ax5.set_xlabel('Meses', fontsize=14)\n",
    "    ax5.set_ylabel('')\n",
    "    ax5.set_title('Distribuição nos meses', fontsize=14)\n",
    "                           \n",
    "    # Salva gráfico em arquivo jpg\n",
    "    plt.savefig(fileout.format(inst), format='jpg')\n",
    "\n",
    "    plt.show();\n",
    "  \n",
    "    "
   ]
  }
 ],
 "metadata": {
  "kernelspec": {
   "display_name": "Python 3",
   "language": "python",
   "name": "python3"
  },
  "language_info": {
   "codemirror_mode": {
    "name": "ipython",
    "version": 3
   },
   "file_extension": ".py",
   "mimetype": "text/x-python",
   "name": "python",
   "nbconvert_exporter": "python",
   "pygments_lexer": "ipython3",
   "version": "3.7.7"
  },
  "varInspector": {
   "cols": {
    "lenName": 16,
    "lenType": 16,
    "lenVar": 40
   },
   "kernels_config": {
    "python": {
     "delete_cmd_postfix": "",
     "delete_cmd_prefix": "del ",
     "library": "var_list.py",
     "varRefreshCmd": "print(var_dic_list())"
    },
    "r": {
     "delete_cmd_postfix": ") ",
     "delete_cmd_prefix": "rm(",
     "library": "var_list.r",
     "varRefreshCmd": "cat(var_dic_list()) "
    }
   },
   "position": {
    "height": "392px",
    "left": "886px",
    "right": "20px",
    "top": "77px",
    "width": "403px"
   },
   "types_to_exclude": [
    "module",
    "function",
    "builtin_function_or_method",
    "instance",
    "_Feature"
   ],
   "window_display": false
  }
 },
 "nbformat": 4,
 "nbformat_minor": 4
}
